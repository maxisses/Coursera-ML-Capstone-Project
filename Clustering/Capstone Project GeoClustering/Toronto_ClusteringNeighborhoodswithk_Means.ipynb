{
 "cells": [
  {
   "cell_type": "markdown",
   "metadata": {},
   "source": [
    "# Clustering Neighborhoods - Toronto"
   ]
  },
  {
   "cell_type": "markdown",
   "metadata": {},
   "source": [
    "## Table of Contents\n",
    "\n",
    "<div class=\"alert alert-block alert-info\" style=\"margin-top: 20px\">\n",
    "\n",
    "<font size = 3>\n",
    "\n",
    "1. <a href=\"#item1\">Download and Explore Dataset</a>\n",
    "\n",
    "2. <a href=\"#item2\">Explore Neighborhoods in Toronto</a>\n",
    "\n",
    "3. <a href=\"#item3\">Analyze Each Neighborhood</a>\n",
    "\n",
    "4. <a href=\"#item4\">Cluster Neighborhoods</a>\n",
    "\n",
    "5. <a href=\"#item5\">Examine Clusters</a>    \n",
    "</font>\n",
    "</div>"
   ]
  },
  {
   "cell_type": "code",
   "execution_count": 348,
   "metadata": {},
   "outputs": [
    {
     "name": "stdout",
     "output_type": "stream",
     "text": [
      "Libraries imported.\n"
     ]
    }
   ],
   "source": [
    "import numpy as np # library to handle data in a vectorized manner\n",
    "\n",
    "import pandas as pd # library for data analsysis\n",
    "pd.set_option('display.max_columns', None)\n",
    "pd.set_option('display.max_rows', None)\n",
    "\n",
    "import json # library to handle JSON files\n",
    "\n",
    "from geopy.geocoders import Nominatim # convert an address into latitude and longitude values\n",
    "\n",
    "import requests # library to handle requests\n",
    "from pandas.io.json import json_normalize # tranform JSON file into a pandas dataframe\n",
    "\n",
    "# Matplotlib and associated plotting modules\n",
    "import matplotlib.cm as cm\n",
    "import matplotlib.colors as colors\n",
    "\n",
    "# import k-means from clustering stage\n",
    "from sklearn.cluster import KMeans\n",
    "\n",
    "import folium # map rendering library\n",
    "\n",
    "from bs4 import BeautifulSoup ## to parse wikipage\n",
    "\n",
    "import geocoder # import geocoder\n",
    "\n",
    "print('Libraries imported.')"
   ]
  },
  {
   "cell_type": "markdown",
   "metadata": {},
   "source": [
    "## 1. Download and Explore Dataset"
   ]
  },
  {
   "cell_type": "code",
   "execution_count": 349,
   "metadata": {},
   "outputs": [],
   "source": [
    "response = requests.get(\"https://en.wikipedia.org/wiki/List_of_postal_codes_of_Canada:_M\")\n",
    "content = response.content"
   ]
  },
  {
   "cell_type": "code",
   "execution_count": 350,
   "metadata": {},
   "outputs": [
    {
     "name": "stdout",
     "output_type": "stream",
     "text": [
      "This is a list of postal codes in Canada where the first letter is M. Postal codes beginning with M are located within the city of Toronto in the province of Ontario. Only the first three characters are listed, corresponding to the Forward Sortation Area.\n",
      "\n"
     ]
    }
   ],
   "source": [
    "# Initialize the parser\n",
    "parser = BeautifulSoup(content, 'html.parser')\n",
    "\n",
    "# test\n",
    "body = parser.body\n",
    "\n",
    "# Get the p tag from the body.\n",
    "p = body.p\n",
    "\n",
    "# Print the text inside the p tag.\n",
    "print(p.text)\n",
    "title_text = parser.title.text"
   ]
  },
  {
   "cell_type": "code",
   "execution_count": 351,
   "metadata": {},
   "outputs": [],
   "source": [
    "tables = parser.find_all(\"table\")[0]"
   ]
  },
  {
   "cell_type": "code",
   "execution_count": 352,
   "metadata": {},
   "outputs": [
    {
     "data": {
      "text/plain": [
       "['Postcode', 'Borough', 'Neighbourhood\\n']"
      ]
     },
     "execution_count": 352,
     "metadata": {},
     "output_type": "execute_result"
    }
   ],
   "source": [
    "table_columns = parser.find_all(\"tr\")[0]\n",
    "columns= []\n",
    "for item in table_columns.findAll('th'):\n",
    "    column = item.text\n",
    "    columns.append(column)\n",
    "columns"
   ]
  },
  {
   "cell_type": "code",
   "execution_count": 353,
   "metadata": {},
   "outputs": [
    {
     "data": {
      "text/plain": [
       "['M1A', 'Not assigned', 'Not assigned\\n']"
      ]
     },
     "execution_count": 353,
     "metadata": {},
     "output_type": "execute_result"
    }
   ],
   "source": [
    "# test for one row\n",
    "row_one = tables.findAll(\"td\")[0:3]\n",
    "all_rows = []\n",
    "resp_row = []\n",
    "for item in row_one:\n",
    "    curr_item = item.text\n",
    "    resp_row.append(curr_item)\n",
    "resp_row"
   ]
  },
  {
   "cell_type": "code",
   "execution_count": 354,
   "metadata": {},
   "outputs": [
    {
     "data": {
      "text/plain": [
       "3"
      ]
     },
     "execution_count": 354,
     "metadata": {},
     "output_type": "execute_result"
    }
   ],
   "source": [
    "all_rows = []\n",
    "for i in range(0,10000,3):\n",
    "    row_one = parser.findAll(\"td\")[i:i+3]\n",
    "    resp_row = []\n",
    "    for item in row_one:\n",
    "        curr_item = item.text\n",
    "        resp_row.append(curr_item)\n",
    "    if resp_row[0].startswith('M'):\n",
    "        all_rows.append(resp_row)\n",
    "    else:\n",
    "        break\n",
    "len(all_rows[0])"
   ]
  },
  {
   "cell_type": "code",
   "execution_count": 355,
   "metadata": {},
   "outputs": [],
   "source": [
    "df = pd.DataFrame(all_rows, columns=['PostalCode', 'Borough', 'Neighborhood'])\n",
    "df[\"Neighborhood\"] = df[\"Neighborhood\"].str.replace(\"\\n\",\"\")\n",
    "for i, row in df.iterrows():\n",
    "    if row[\"Neighborhood\"]==\"Not assigned\":\n",
    "        df.iloc[i][\"Borough\"] == row[\"Borough\"]\n",
    "        \n",
    "df = df[~(df[\"Borough\"]== \"Not assigned\")]    "
   ]
  },
  {
   "cell_type": "code",
   "execution_count": 356,
   "metadata": {},
   "outputs": [
    {
     "data": {
      "text/html": [
       "<div>\n",
       "<style scoped>\n",
       "    .dataframe tbody tr th:only-of-type {\n",
       "        vertical-align: middle;\n",
       "    }\n",
       "\n",
       "    .dataframe tbody tr th {\n",
       "        vertical-align: top;\n",
       "    }\n",
       "\n",
       "    .dataframe thead th {\n",
       "        text-align: right;\n",
       "    }\n",
       "</style>\n",
       "<table border=\"1\" class=\"dataframe\">\n",
       "  <thead>\n",
       "    <tr style=\"text-align: right;\">\n",
       "      <th></th>\n",
       "      <th>PostalCode</th>\n",
       "      <th>Borough</th>\n",
       "      <th>Neighborhood</th>\n",
       "    </tr>\n",
       "  </thead>\n",
       "  <tbody>\n",
       "    <tr>\n",
       "      <th>216</th>\n",
       "      <td>M5V</td>\n",
       "      <td>Downtown Toronto</td>\n",
       "      <td>CN Tower</td>\n",
       "    </tr>\n",
       "    <tr>\n",
       "      <th>217</th>\n",
       "      <td>M5V</td>\n",
       "      <td>Downtown Toronto</td>\n",
       "      <td>Bathurst Quay</td>\n",
       "    </tr>\n",
       "    <tr>\n",
       "      <th>218</th>\n",
       "      <td>M5V</td>\n",
       "      <td>Downtown Toronto</td>\n",
       "      <td>Island airport</td>\n",
       "    </tr>\n",
       "    <tr>\n",
       "      <th>219</th>\n",
       "      <td>M5V</td>\n",
       "      <td>Downtown Toronto</td>\n",
       "      <td>Harbourfront West</td>\n",
       "    </tr>\n",
       "    <tr>\n",
       "      <th>220</th>\n",
       "      <td>M5V</td>\n",
       "      <td>Downtown Toronto</td>\n",
       "      <td>King and Spadina</td>\n",
       "    </tr>\n",
       "    <tr>\n",
       "      <th>221</th>\n",
       "      <td>M5V</td>\n",
       "      <td>Downtown Toronto</td>\n",
       "      <td>Railway Lands</td>\n",
       "    </tr>\n",
       "    <tr>\n",
       "      <th>222</th>\n",
       "      <td>M5V</td>\n",
       "      <td>Downtown Toronto</td>\n",
       "      <td>South Niagara</td>\n",
       "    </tr>\n",
       "  </tbody>\n",
       "</table>\n",
       "</div>"
      ],
      "text/plain": [
       "    PostalCode           Borough       Neighborhood\n",
       "216        M5V  Downtown Toronto           CN Tower\n",
       "217        M5V  Downtown Toronto      Bathurst Quay\n",
       "218        M5V  Downtown Toronto     Island airport\n",
       "219        M5V  Downtown Toronto  Harbourfront West\n",
       "220        M5V  Downtown Toronto   King and Spadina\n",
       "221        M5V  Downtown Toronto      Railway Lands\n",
       "222        M5V  Downtown Toronto      South Niagara"
      ]
     },
     "execution_count": 356,
     "metadata": {},
     "output_type": "execute_result"
    }
   ],
   "source": [
    "df[df[\"PostalCode\"]==\"M5V\"]"
   ]
  },
  {
   "cell_type": "code",
   "execution_count": 357,
   "metadata": {},
   "outputs": [
    {
     "data": {
      "text/html": [
       "<div>\n",
       "<style scoped>\n",
       "    .dataframe tbody tr th:only-of-type {\n",
       "        vertical-align: middle;\n",
       "    }\n",
       "\n",
       "    .dataframe tbody tr th {\n",
       "        vertical-align: top;\n",
       "    }\n",
       "\n",
       "    .dataframe thead th {\n",
       "        text-align: right;\n",
       "    }\n",
       "</style>\n",
       "<table border=\"1\" class=\"dataframe\">\n",
       "  <thead>\n",
       "    <tr style=\"text-align: right;\">\n",
       "      <th></th>\n",
       "      <th>PostalCode</th>\n",
       "      <th>Borough</th>\n",
       "      <th>Neighborhood</th>\n",
       "    </tr>\n",
       "  </thead>\n",
       "  <tbody>\n",
       "    <tr>\n",
       "      <th>2</th>\n",
       "      <td>M3A</td>\n",
       "      <td>North York</td>\n",
       "      <td>Parkwoods</td>\n",
       "    </tr>\n",
       "    <tr>\n",
       "      <th>3</th>\n",
       "      <td>M4A</td>\n",
       "      <td>North York</td>\n",
       "      <td>Victoria Village</td>\n",
       "    </tr>\n",
       "    <tr>\n",
       "      <th>4</th>\n",
       "      <td>M5A</td>\n",
       "      <td>Downtown Toronto</td>\n",
       "      <td>Harbourfront</td>\n",
       "    </tr>\n",
       "    <tr>\n",
       "      <th>5</th>\n",
       "      <td>M5A</td>\n",
       "      <td>Downtown Toronto</td>\n",
       "      <td>Regent Park</td>\n",
       "    </tr>\n",
       "    <tr>\n",
       "      <th>6</th>\n",
       "      <td>M6A</td>\n",
       "      <td>North York</td>\n",
       "      <td>Lawrence Heights</td>\n",
       "    </tr>\n",
       "  </tbody>\n",
       "</table>\n",
       "</div>"
      ],
      "text/plain": [
       "  PostalCode           Borough      Neighborhood\n",
       "2        M3A        North York         Parkwoods\n",
       "3        M4A        North York  Victoria Village\n",
       "4        M5A  Downtown Toronto      Harbourfront\n",
       "5        M5A  Downtown Toronto       Regent Park\n",
       "6        M6A        North York  Lawrence Heights"
      ]
     },
     "execution_count": 357,
     "metadata": {},
     "output_type": "execute_result"
    }
   ],
   "source": [
    "df.head()"
   ]
  },
  {
   "cell_type": "code",
   "execution_count": 358,
   "metadata": {},
   "outputs": [],
   "source": [
    "neighborhoods = df.groupby('PostalCode')[\"Neighborhood\"].apply(lambda x: \"{%s}\" % ', '.join(x))"
   ]
  },
  {
   "cell_type": "code",
   "execution_count": 359,
   "metadata": {},
   "outputs": [
    {
     "data": {
      "text/plain": [
       "103"
      ]
     },
     "execution_count": 359,
     "metadata": {},
     "output_type": "execute_result"
    }
   ],
   "source": [
    "grouped_df = pd.concat([df.groupby('PostalCode').agg(sum), neighborhoods], axis=1)\n",
    "len(grouped_df)"
   ]
  },
  {
   "cell_type": "code",
   "execution_count": 360,
   "metadata": {},
   "outputs": [],
   "source": [
    "new_df = grouped_df.merge(df,how=\"inner\", on=\"PostalCode\").drop_duplicates(subset='PostalCode', keep='first', inplace=False).drop([\"Borough_x\",\"Neighborhood_y\"], axis=1)"
   ]
  },
  {
   "cell_type": "code",
   "execution_count": 361,
   "metadata": {},
   "outputs": [
    {
     "data": {
      "text/plain": [
       "Index(['PostalCode', 'Neighborhood_weg', 'Neighborhood', 'Borough'], dtype='object')"
      ]
     },
     "execution_count": 361,
     "metadata": {},
     "output_type": "execute_result"
    }
   ],
   "source": [
    "new_df.columns = ['PostalCode', 'Neighborhood_weg', 'Neighborhood', 'Borough']\n",
    "new_df.columns"
   ]
  },
  {
   "cell_type": "code",
   "execution_count": 362,
   "metadata": {},
   "outputs": [],
   "source": [
    "new_df.drop(\"Neighborhood_weg\",axis=1, inplace=True)"
   ]
  },
  {
   "cell_type": "code",
   "execution_count": 363,
   "metadata": {},
   "outputs": [],
   "source": [
    "new_df[\"Neighborhood\"] = new_df[\"Neighborhood\"].str.replace(\"\\{\",\"\")\n",
    "new_df[\"Neighborhood\"] = new_df[\"Neighborhood\"].str.replace(\"\\}\",\"\")"
   ]
  },
  {
   "cell_type": "code",
   "execution_count": 411,
   "metadata": {},
   "outputs": [
    {
     "data": {
      "text/html": [
       "<div>\n",
       "<style scoped>\n",
       "    .dataframe tbody tr th:only-of-type {\n",
       "        vertical-align: middle;\n",
       "    }\n",
       "\n",
       "    .dataframe tbody tr th {\n",
       "        vertical-align: top;\n",
       "    }\n",
       "\n",
       "    .dataframe thead th {\n",
       "        text-align: right;\n",
       "    }\n",
       "</style>\n",
       "<table border=\"1\" class=\"dataframe\">\n",
       "  <thead>\n",
       "    <tr style=\"text-align: right;\">\n",
       "      <th></th>\n",
       "      <th>PostalCode</th>\n",
       "      <th>Neighborhood</th>\n",
       "      <th>Borough</th>\n",
       "    </tr>\n",
       "  </thead>\n",
       "  <tbody>\n",
       "    <tr>\n",
       "      <th>0</th>\n",
       "      <td>M1B</td>\n",
       "      <td>Rouge, Malvern</td>\n",
       "      <td>Scarborough</td>\n",
       "    </tr>\n",
       "    <tr>\n",
       "      <th>1</th>\n",
       "      <td>M1C</td>\n",
       "      <td>Highland Creek, Rouge Hill, Port Union</td>\n",
       "      <td>Scarborough</td>\n",
       "    </tr>\n",
       "    <tr>\n",
       "      <th>2</th>\n",
       "      <td>M1E</td>\n",
       "      <td>Guildwood, Morningside, West Hill</td>\n",
       "      <td>Scarborough</td>\n",
       "    </tr>\n",
       "    <tr>\n",
       "      <th>3</th>\n",
       "      <td>M1G</td>\n",
       "      <td>Woburn</td>\n",
       "      <td>Scarborough</td>\n",
       "    </tr>\n",
       "    <tr>\n",
       "      <th>4</th>\n",
       "      <td>M1H</td>\n",
       "      <td>Cedarbrae</td>\n",
       "      <td>Scarborough</td>\n",
       "    </tr>\n",
       "  </tbody>\n",
       "</table>\n",
       "</div>"
      ],
      "text/plain": [
       "  PostalCode                            Neighborhood      Borough\n",
       "0        M1B                          Rouge, Malvern  Scarborough\n",
       "1        M1C  Highland Creek, Rouge Hill, Port Union  Scarborough\n",
       "2        M1E       Guildwood, Morningside, West Hill  Scarborough\n",
       "3        M1G                                  Woburn  Scarborough\n",
       "4        M1H                               Cedarbrae  Scarborough"
      ]
     },
     "execution_count": 411,
     "metadata": {},
     "output_type": "execute_result"
    }
   ],
   "source": [
    "new_df.reset_index(inplace=True, drop=True)\n",
    "new_df.head()"
   ]
  },
  {
   "cell_type": "markdown",
   "metadata": {},
   "source": [
    "## for the sake of being consistent with the example df I am switching the column order"
   ]
  },
  {
   "cell_type": "code",
   "execution_count": 420,
   "metadata": {},
   "outputs": [
    {
     "data": {
      "text/html": [
       "<div>\n",
       "<style scoped>\n",
       "    .dataframe tbody tr th:only-of-type {\n",
       "        vertical-align: middle;\n",
       "    }\n",
       "\n",
       "    .dataframe tbody tr th {\n",
       "        vertical-align: top;\n",
       "    }\n",
       "\n",
       "    .dataframe thead th {\n",
       "        text-align: right;\n",
       "    }\n",
       "</style>\n",
       "<table border=\"1\" class=\"dataframe\">\n",
       "  <thead>\n",
       "    <tr style=\"text-align: right;\">\n",
       "      <th></th>\n",
       "      <th>PostalCode</th>\n",
       "      <th>Borough</th>\n",
       "      <th>Neighborhood</th>\n",
       "    </tr>\n",
       "  </thead>\n",
       "  <tbody>\n",
       "    <tr>\n",
       "      <th>0</th>\n",
       "      <td>M1B</td>\n",
       "      <td>Scarborough</td>\n",
       "      <td>Rouge, Malvern</td>\n",
       "    </tr>\n",
       "    <tr>\n",
       "      <th>1</th>\n",
       "      <td>M1C</td>\n",
       "      <td>Scarborough</td>\n",
       "      <td>Highland Creek, Rouge Hill, Port Union</td>\n",
       "    </tr>\n",
       "    <tr>\n",
       "      <th>2</th>\n",
       "      <td>M1E</td>\n",
       "      <td>Scarborough</td>\n",
       "      <td>Guildwood, Morningside, West Hill</td>\n",
       "    </tr>\n",
       "    <tr>\n",
       "      <th>3</th>\n",
       "      <td>M1G</td>\n",
       "      <td>Scarborough</td>\n",
       "      <td>Woburn</td>\n",
       "    </tr>\n",
       "    <tr>\n",
       "      <th>4</th>\n",
       "      <td>M1H</td>\n",
       "      <td>Scarborough</td>\n",
       "      <td>Cedarbrae</td>\n",
       "    </tr>\n",
       "    <tr>\n",
       "      <th>5</th>\n",
       "      <td>M1J</td>\n",
       "      <td>Scarborough</td>\n",
       "      <td>Scarborough Village</td>\n",
       "    </tr>\n",
       "    <tr>\n",
       "      <th>6</th>\n",
       "      <td>M1K</td>\n",
       "      <td>Scarborough</td>\n",
       "      <td>East Birchmount Park, Ionview, Kennedy Park</td>\n",
       "    </tr>\n",
       "    <tr>\n",
       "      <th>7</th>\n",
       "      <td>M1L</td>\n",
       "      <td>Scarborough</td>\n",
       "      <td>Clairlea, Golden Mile, Oakridge</td>\n",
       "    </tr>\n",
       "    <tr>\n",
       "      <th>8</th>\n",
       "      <td>M1M</td>\n",
       "      <td>Scarborough</td>\n",
       "      <td>Cliffcrest, Cliffside, Scarborough Village West</td>\n",
       "    </tr>\n",
       "    <tr>\n",
       "      <th>9</th>\n",
       "      <td>M1N</td>\n",
       "      <td>Scarborough</td>\n",
       "      <td>Birch Cliff, Cliffside West</td>\n",
       "    </tr>\n",
       "    <tr>\n",
       "      <th>10</th>\n",
       "      <td>M1P</td>\n",
       "      <td>Scarborough</td>\n",
       "      <td>Dorset Park, Scarborough Town Centre, Wexford ...</td>\n",
       "    </tr>\n",
       "    <tr>\n",
       "      <th>11</th>\n",
       "      <td>M1R</td>\n",
       "      <td>Scarborough</td>\n",
       "      <td>Maryvale, Wexford</td>\n",
       "    </tr>\n",
       "    <tr>\n",
       "      <th>12</th>\n",
       "      <td>M1S</td>\n",
       "      <td>Scarborough</td>\n",
       "      <td>Agincourt</td>\n",
       "    </tr>\n",
       "    <tr>\n",
       "      <th>13</th>\n",
       "      <td>M1T</td>\n",
       "      <td>Scarborough</td>\n",
       "      <td>Clarks Corners, Sullivan, Tam O'Shanter</td>\n",
       "    </tr>\n",
       "    <tr>\n",
       "      <th>14</th>\n",
       "      <td>M1V</td>\n",
       "      <td>Scarborough</td>\n",
       "      <td>Agincourt North, L'Amoreaux East, Milliken, St...</td>\n",
       "    </tr>\n",
       "  </tbody>\n",
       "</table>\n",
       "</div>"
      ],
      "text/plain": [
       "   PostalCode      Borough                                       Neighborhood\n",
       "0         M1B  Scarborough                                     Rouge, Malvern\n",
       "1         M1C  Scarborough             Highland Creek, Rouge Hill, Port Union\n",
       "2         M1E  Scarborough                  Guildwood, Morningside, West Hill\n",
       "3         M1G  Scarborough                                             Woburn\n",
       "4         M1H  Scarborough                                          Cedarbrae\n",
       "5         M1J  Scarborough                                Scarborough Village\n",
       "6         M1K  Scarborough        East Birchmount Park, Ionview, Kennedy Park\n",
       "7         M1L  Scarborough                    Clairlea, Golden Mile, Oakridge\n",
       "8         M1M  Scarborough    Cliffcrest, Cliffside, Scarborough Village West\n",
       "9         M1N  Scarborough                        Birch Cliff, Cliffside West\n",
       "10        M1P  Scarborough  Dorset Park, Scarborough Town Centre, Wexford ...\n",
       "11        M1R  Scarborough                                  Maryvale, Wexford\n",
       "12        M1S  Scarborough                                          Agincourt\n",
       "13        M1T  Scarborough            Clarks Corners, Sullivan, Tam O'Shanter\n",
       "14        M1V  Scarborough  Agincourt North, L'Amoreaux East, Milliken, St..."
      ]
     },
     "execution_count": 420,
     "metadata": {},
     "output_type": "execute_result"
    }
   ],
   "source": [
    "cols = new_df.columns.tolist()\n",
    "new_cols = ['PostalCode', 'Borough', 'Neighborhood']\n",
    "new_df1 = new_df[new_cols]\n",
    "new_df1.head(15)"
   ]
  },
  {
   "cell_type": "code",
   "execution_count": 365,
   "metadata": {},
   "outputs": [],
   "source": [
    "postalcode_df = new_df.copy()"
   ]
  },
  {
   "cell_type": "code",
   "execution_count": null,
   "metadata": {},
   "outputs": [],
   "source": []
  },
  {
   "cell_type": "markdown",
   "metadata": {},
   "source": [
    "## Now adding latitudes and longitudes for each Postal Code area"
   ]
  },
  {
   "cell_type": "raw",
   "metadata": {},
   "source": [
    "--> Not used, geocoder not working\n",
    "# write function\n",
    "def get_coords(postal_code):\n",
    "    lat_lng_coords = None\n",
    "\n",
    "    # loop until you get the coordinates\n",
    "    while(lat_lng_coords is None):\n",
    "        g = geocoder.google('{}, Toronto, Ontario'.format(postal_code))\n",
    "        lat_lng_coords = g.latlng\n",
    "\n",
    "    latitude = lat_lng_coords[0]\n",
    "    longitude = lat_lng_coords[1]\n",
    "    return latitude, longitude"
   ]
  },
  {
   "cell_type": "raw",
   "metadata": {},
   "source": [
    "--> Not used, geocoder not working\n",
    "postalcode_df[\"Latitude\"], postalcode_df[\"Longitude\"] = postalcode_df[\"PostalCode\"].apply(get_coords)"
   ]
  },
  {
   "cell_type": "code",
   "execution_count": 366,
   "metadata": {},
   "outputs": [
    {
     "data": {
      "text/html": [
       "<div>\n",
       "<style scoped>\n",
       "    .dataframe tbody tr th:only-of-type {\n",
       "        vertical-align: middle;\n",
       "    }\n",
       "\n",
       "    .dataframe tbody tr th {\n",
       "        vertical-align: top;\n",
       "    }\n",
       "\n",
       "    .dataframe thead th {\n",
       "        text-align: right;\n",
       "    }\n",
       "</style>\n",
       "<table border=\"1\" class=\"dataframe\">\n",
       "  <thead>\n",
       "    <tr style=\"text-align: right;\">\n",
       "      <th></th>\n",
       "      <th>Postal Code</th>\n",
       "      <th>Latitude</th>\n",
       "      <th>Longitude</th>\n",
       "    </tr>\n",
       "  </thead>\n",
       "  <tbody>\n",
       "    <tr>\n",
       "      <th>0</th>\n",
       "      <td>M1B</td>\n",
       "      <td>43.806686</td>\n",
       "      <td>-79.194353</td>\n",
       "    </tr>\n",
       "    <tr>\n",
       "      <th>1</th>\n",
       "      <td>M1C</td>\n",
       "      <td>43.784535</td>\n",
       "      <td>-79.160497</td>\n",
       "    </tr>\n",
       "    <tr>\n",
       "      <th>2</th>\n",
       "      <td>M1E</td>\n",
       "      <td>43.763573</td>\n",
       "      <td>-79.188711</td>\n",
       "    </tr>\n",
       "    <tr>\n",
       "      <th>3</th>\n",
       "      <td>M1G</td>\n",
       "      <td>43.770992</td>\n",
       "      <td>-79.216917</td>\n",
       "    </tr>\n",
       "    <tr>\n",
       "      <th>4</th>\n",
       "      <td>M1H</td>\n",
       "      <td>43.773136</td>\n",
       "      <td>-79.239476</td>\n",
       "    </tr>\n",
       "  </tbody>\n",
       "</table>\n",
       "</div>"
      ],
      "text/plain": [
       "  Postal Code   Latitude  Longitude\n",
       "0         M1B  43.806686 -79.194353\n",
       "1         M1C  43.784535 -79.160497\n",
       "2         M1E  43.763573 -79.188711\n",
       "3         M1G  43.770992 -79.216917\n",
       "4         M1H  43.773136 -79.239476"
      ]
     },
     "execution_count": 366,
     "metadata": {},
     "output_type": "execute_result"
    }
   ],
   "source": [
    "toronto_geo = pd.read_csv(\"Geospatial_Coordinates.csv\")\n",
    "postalcode_df = pd.concat([postalcode_df, toronto_geo], axis=1)\n",
    "toronto_geo.head()"
   ]
  },
  {
   "cell_type": "code",
   "execution_count": 367,
   "metadata": {},
   "outputs": [
    {
     "data": {
      "text/html": [
       "<div>\n",
       "<style scoped>\n",
       "    .dataframe tbody tr th:only-of-type {\n",
       "        vertical-align: middle;\n",
       "    }\n",
       "\n",
       "    .dataframe tbody tr th {\n",
       "        vertical-align: top;\n",
       "    }\n",
       "\n",
       "    .dataframe thead th {\n",
       "        text-align: right;\n",
       "    }\n",
       "</style>\n",
       "<table border=\"1\" class=\"dataframe\">\n",
       "  <thead>\n",
       "    <tr style=\"text-align: right;\">\n",
       "      <th></th>\n",
       "      <th>PostalCode</th>\n",
       "      <th>Neighborhood</th>\n",
       "      <th>Borough</th>\n",
       "      <th>Postal Code</th>\n",
       "      <th>Latitude</th>\n",
       "      <th>Longitude</th>\n",
       "    </tr>\n",
       "  </thead>\n",
       "  <tbody>\n",
       "    <tr>\n",
       "      <th>0</th>\n",
       "      <td>M1B</td>\n",
       "      <td>Rouge, Malvern</td>\n",
       "      <td>Scarborough</td>\n",
       "      <td>M1B</td>\n",
       "      <td>43.806686</td>\n",
       "      <td>-79.194353</td>\n",
       "    </tr>\n",
       "    <tr>\n",
       "      <th>1</th>\n",
       "      <td>M1C</td>\n",
       "      <td>Highland Creek, Rouge Hill, Port Union</td>\n",
       "      <td>Scarborough</td>\n",
       "      <td>M1C</td>\n",
       "      <td>43.784535</td>\n",
       "      <td>-79.160497</td>\n",
       "    </tr>\n",
       "    <tr>\n",
       "      <th>2</th>\n",
       "      <td>M1E</td>\n",
       "      <td>Guildwood, Morningside, West Hill</td>\n",
       "      <td>Scarborough</td>\n",
       "      <td>M1E</td>\n",
       "      <td>43.763573</td>\n",
       "      <td>-79.188711</td>\n",
       "    </tr>\n",
       "    <tr>\n",
       "      <th>3</th>\n",
       "      <td>M1G</td>\n",
       "      <td>Woburn</td>\n",
       "      <td>Scarborough</td>\n",
       "      <td>M1G</td>\n",
       "      <td>43.770992</td>\n",
       "      <td>-79.216917</td>\n",
       "    </tr>\n",
       "    <tr>\n",
       "      <th>4</th>\n",
       "      <td>M1H</td>\n",
       "      <td>Cedarbrae</td>\n",
       "      <td>Scarborough</td>\n",
       "      <td>M1H</td>\n",
       "      <td>43.773136</td>\n",
       "      <td>-79.239476</td>\n",
       "    </tr>\n",
       "  </tbody>\n",
       "</table>\n",
       "</div>"
      ],
      "text/plain": [
       "  PostalCode                            Neighborhood      Borough Postal Code  \\\n",
       "0        M1B                          Rouge, Malvern  Scarborough         M1B   \n",
       "1        M1C  Highland Creek, Rouge Hill, Port Union  Scarborough         M1C   \n",
       "2        M1E       Guildwood, Morningside, West Hill  Scarborough         M1E   \n",
       "3        M1G                                  Woburn  Scarborough         M1G   \n",
       "4        M1H                               Cedarbrae  Scarborough         M1H   \n",
       "\n",
       "    Latitude  Longitude  \n",
       "0  43.806686 -79.194353  \n",
       "1  43.784535 -79.160497  \n",
       "2  43.763573 -79.188711  \n",
       "3  43.770992 -79.216917  \n",
       "4  43.773136 -79.239476  "
      ]
     },
     "execution_count": 367,
     "metadata": {},
     "output_type": "execute_result"
    }
   ],
   "source": [
    "postalcode_df.head()"
   ]
  },
  {
   "cell_type": "markdown",
   "metadata": {},
   "source": [
    "## Now exploring"
   ]
  },
  {
   "cell_type": "code",
   "execution_count": 368,
   "metadata": {},
   "outputs": [
    {
     "name": "stderr",
     "output_type": "stream",
     "text": [
      "/Users/Max/anaconda3/envs/maxisses_env/lib/python3.6/site-packages/ipykernel_launcher.py:3: DeprecationWarning: Using Nominatim with the default \"geopy/1.18.1\" `user_agent` is strongly discouraged, as it violates Nominatim's ToS https://operations.osmfoundation.org/policies/nominatim/ and may possibly cause 403 and 429 HTTP errors. Please specify a custom `user_agent` with `Nominatim(user_agent=\"my-application\")` or by overriding the default `user_agent`: `geopy.geocoders.options.default_user_agent = \"my-application\"`. In geopy 2.0 this will become an exception.\n",
      "  This is separate from the ipykernel package so we can avoid doing imports until\n"
     ]
    },
    {
     "name": "stdout",
     "output_type": "stream",
     "text": [
      "The geograpical coordinate of Toronto are 43.653963, -79.387207.\n"
     ]
    }
   ],
   "source": [
    "address = 'Toronto, Ontario'\n",
    "\n",
    "geolocator = Nominatim()\n",
    "location = geolocator.geocode(address)\n",
    "latitude = location.latitude\n",
    "longitude = location.longitude\n",
    "print('The geograpical coordinate of Toronto are {}, {}.'.format(latitude, longitude))"
   ]
  },
  {
   "cell_type": "code",
   "execution_count": 369,
   "metadata": {},
   "outputs": [
    {
     "data": {
      "text/html": [
       "<div style=\"width:100%;\"><div style=\"position:relative;width:100%;height:0;padding-bottom:60%;\"><iframe src=\"data:text/html;charset=utf-8;base64,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\" style=\"position:absolute;width:100%;height:100%;left:0;top:0;border:none !important;\" allowfullscreen webkitallowfullscreen mozallowfullscreen></iframe></div></div>"
      ],
      "text/plain": [
       "<folium.folium.Map at 0x1a24c9b8d0>"
      ]
     },
     "execution_count": 369,
     "metadata": {},
     "output_type": "execute_result"
    }
   ],
   "source": [
    "# create map of Manhattan using latitude and longitude values\n",
    "map_toronto = folium.Map(location=[latitude, longitude], zoom_start=11)\n",
    "\n",
    "# add markers to map\n",
    "for lat, lng, label in zip(postalcode_df['Latitude'], postalcode_df['Longitude'], postalcode_df['PostalCode']):\n",
    "    label = folium.Popup(label, parse_html=True)\n",
    "    folium.CircleMarker(\n",
    "        [lat, lng],\n",
    "        radius=5,\n",
    "        popup=label,\n",
    "        color='blue',\n",
    "        fill=True,\n",
    "        fill_color='#3186cc',\n",
    "        fill_opacity=0.7,).add_to(map_toronto)  \n",
    "    \n",
    "map_toronto"
   ]
  },
  {
   "cell_type": "markdown",
   "metadata": {},
   "source": [
    "### Start gathering cluster features"
   ]
  },
  {
   "cell_type": "code",
   "execution_count": 370,
   "metadata": {},
   "outputs": [
    {
     "name": "stdout",
     "output_type": "stream",
     "text": [
      "Your credentails:\n",
      "CLIENT_ID: BMMZILCYQCZJE1KR2SJYMHMFLDBQBMRZOXFRN3C3AARRX113\n",
      "CLIENT_SECRET:C1GY15IRDEV4W0KO2U1FZXMLSE2PH33O50FB1FEVMW0G4BPI\n"
     ]
    }
   ],
   "source": [
    "CLIENT_ID = 'BMMZILCYQCZJE1KR2SJYMHMFLDBQBMRZOXFRN3C3AARRX113'\n",
    "CLIENT_SECRET= 'C1GY15IRDEV4W0KO2U1FZXMLSE2PH33O50FB1FEVMW0G4BPI'\n",
    "VERSION = '20180604'\n",
    "LIMIT = 100\n",
    "radius = 500\n",
    "print('Your credentails:')\n",
    "print('CLIENT_ID: ' + CLIENT_ID)\n",
    "print('CLIENT_SECRET:' + CLIENT_SECRET)"
   ]
  },
  {
   "cell_type": "code",
   "execution_count": 388,
   "metadata": {},
   "outputs": [
    {
     "data": {
      "text/html": [
       "<div>\n",
       "<style scoped>\n",
       "    .dataframe tbody tr th:only-of-type {\n",
       "        vertical-align: middle;\n",
       "    }\n",
       "\n",
       "    .dataframe tbody tr th {\n",
       "        vertical-align: top;\n",
       "    }\n",
       "\n",
       "    .dataframe thead th {\n",
       "        text-align: right;\n",
       "    }\n",
       "</style>\n",
       "<table border=\"1\" class=\"dataframe\">\n",
       "  <thead>\n",
       "    <tr style=\"text-align: right;\">\n",
       "      <th></th>\n",
       "      <th>PostalCode</th>\n",
       "      <th>Neighborhood</th>\n",
       "      <th>Borough</th>\n",
       "      <th>Postal Code</th>\n",
       "      <th>Latitude</th>\n",
       "      <th>Longitude</th>\n",
       "    </tr>\n",
       "  </thead>\n",
       "  <tbody>\n",
       "    <tr>\n",
       "      <th>0</th>\n",
       "      <td>M1B</td>\n",
       "      <td>Rouge, Malvern</td>\n",
       "      <td>Scarborough</td>\n",
       "      <td>M1B</td>\n",
       "      <td>43.806686</td>\n",
       "      <td>-79.194353</td>\n",
       "    </tr>\n",
       "    <tr>\n",
       "      <th>1</th>\n",
       "      <td>M1C</td>\n",
       "      <td>Highland Creek, Rouge Hill, Port Union</td>\n",
       "      <td>Scarborough</td>\n",
       "      <td>M1C</td>\n",
       "      <td>43.784535</td>\n",
       "      <td>-79.160497</td>\n",
       "    </tr>\n",
       "    <tr>\n",
       "      <th>2</th>\n",
       "      <td>M1E</td>\n",
       "      <td>Guildwood, Morningside, West Hill</td>\n",
       "      <td>Scarborough</td>\n",
       "      <td>M1E</td>\n",
       "      <td>43.763573</td>\n",
       "      <td>-79.188711</td>\n",
       "    </tr>\n",
       "    <tr>\n",
       "      <th>3</th>\n",
       "      <td>M1G</td>\n",
       "      <td>Woburn</td>\n",
       "      <td>Scarborough</td>\n",
       "      <td>M1G</td>\n",
       "      <td>43.770992</td>\n",
       "      <td>-79.216917</td>\n",
       "    </tr>\n",
       "    <tr>\n",
       "      <th>4</th>\n",
       "      <td>M1H</td>\n",
       "      <td>Cedarbrae</td>\n",
       "      <td>Scarborough</td>\n",
       "      <td>M1H</td>\n",
       "      <td>43.773136</td>\n",
       "      <td>-79.239476</td>\n",
       "    </tr>\n",
       "    <tr>\n",
       "      <th>5</th>\n",
       "      <td>M1J</td>\n",
       "      <td>Scarborough Village</td>\n",
       "      <td>Scarborough</td>\n",
       "      <td>M1J</td>\n",
       "      <td>43.744734</td>\n",
       "      <td>-79.239476</td>\n",
       "    </tr>\n",
       "    <tr>\n",
       "      <th>6</th>\n",
       "      <td>M1K</td>\n",
       "      <td>East Birchmount Park, Ionview, Kennedy Park</td>\n",
       "      <td>Scarborough</td>\n",
       "      <td>M1K</td>\n",
       "      <td>43.727929</td>\n",
       "      <td>-79.262029</td>\n",
       "    </tr>\n",
       "    <tr>\n",
       "      <th>7</th>\n",
       "      <td>M1L</td>\n",
       "      <td>Clairlea, Golden Mile, Oakridge</td>\n",
       "      <td>Scarborough</td>\n",
       "      <td>M1L</td>\n",
       "      <td>43.711112</td>\n",
       "      <td>-79.284577</td>\n",
       "    </tr>\n",
       "    <tr>\n",
       "      <th>8</th>\n",
       "      <td>M1M</td>\n",
       "      <td>Cliffcrest, Cliffside, Scarborough Village West</td>\n",
       "      <td>Scarborough</td>\n",
       "      <td>M1M</td>\n",
       "      <td>43.716316</td>\n",
       "      <td>-79.239476</td>\n",
       "    </tr>\n",
       "    <tr>\n",
       "      <th>9</th>\n",
       "      <td>M1N</td>\n",
       "      <td>Birch Cliff, Cliffside West</td>\n",
       "      <td>Scarborough</td>\n",
       "      <td>M1N</td>\n",
       "      <td>43.692657</td>\n",
       "      <td>-79.264848</td>\n",
       "    </tr>\n",
       "    <tr>\n",
       "      <th>10</th>\n",
       "      <td>M1P</td>\n",
       "      <td>Dorset Park, Scarborough Town Centre, Wexford ...</td>\n",
       "      <td>Scarborough</td>\n",
       "      <td>M1P</td>\n",
       "      <td>43.757410</td>\n",
       "      <td>-79.273304</td>\n",
       "    </tr>\n",
       "    <tr>\n",
       "      <th>11</th>\n",
       "      <td>M1R</td>\n",
       "      <td>Maryvale, Wexford</td>\n",
       "      <td>Scarborough</td>\n",
       "      <td>M1R</td>\n",
       "      <td>43.750072</td>\n",
       "      <td>-79.295849</td>\n",
       "    </tr>\n",
       "    <tr>\n",
       "      <th>12</th>\n",
       "      <td>M1S</td>\n",
       "      <td>Agincourt</td>\n",
       "      <td>Scarborough</td>\n",
       "      <td>M1S</td>\n",
       "      <td>43.794200</td>\n",
       "      <td>-79.262029</td>\n",
       "    </tr>\n",
       "    <tr>\n",
       "      <th>13</th>\n",
       "      <td>M1T</td>\n",
       "      <td>Clarks Corners, Sullivan, Tam O'Shanter</td>\n",
       "      <td>Scarborough</td>\n",
       "      <td>M1T</td>\n",
       "      <td>43.781638</td>\n",
       "      <td>-79.304302</td>\n",
       "    </tr>\n",
       "    <tr>\n",
       "      <th>14</th>\n",
       "      <td>M1V</td>\n",
       "      <td>Agincourt North, L'Amoreaux East, Milliken, St...</td>\n",
       "      <td>Scarborough</td>\n",
       "      <td>M1V</td>\n",
       "      <td>43.815252</td>\n",
       "      <td>-79.284577</td>\n",
       "    </tr>\n",
       "    <tr>\n",
       "      <th>15</th>\n",
       "      <td>M1W</td>\n",
       "      <td>L'Amoreaux West, Steeles West</td>\n",
       "      <td>Scarborough</td>\n",
       "      <td>M1W</td>\n",
       "      <td>43.799525</td>\n",
       "      <td>-79.318389</td>\n",
       "    </tr>\n",
       "  </tbody>\n",
       "</table>\n",
       "</div>"
      ],
      "text/plain": [
       "   PostalCode                                       Neighborhood      Borough  \\\n",
       "0         M1B                                     Rouge, Malvern  Scarborough   \n",
       "1         M1C             Highland Creek, Rouge Hill, Port Union  Scarborough   \n",
       "2         M1E                  Guildwood, Morningside, West Hill  Scarborough   \n",
       "3         M1G                                             Woburn  Scarborough   \n",
       "4         M1H                                          Cedarbrae  Scarborough   \n",
       "5         M1J                                Scarborough Village  Scarborough   \n",
       "6         M1K        East Birchmount Park, Ionview, Kennedy Park  Scarborough   \n",
       "7         M1L                    Clairlea, Golden Mile, Oakridge  Scarborough   \n",
       "8         M1M    Cliffcrest, Cliffside, Scarborough Village West  Scarborough   \n",
       "9         M1N                        Birch Cliff, Cliffside West  Scarborough   \n",
       "10        M1P  Dorset Park, Scarborough Town Centre, Wexford ...  Scarborough   \n",
       "11        M1R                                  Maryvale, Wexford  Scarborough   \n",
       "12        M1S                                          Agincourt  Scarborough   \n",
       "13        M1T            Clarks Corners, Sullivan, Tam O'Shanter  Scarborough   \n",
       "14        M1V  Agincourt North, L'Amoreaux East, Milliken, St...  Scarborough   \n",
       "15        M1W                      L'Amoreaux West, Steeles West  Scarborough   \n",
       "\n",
       "   Postal Code   Latitude  Longitude  \n",
       "0          M1B  43.806686 -79.194353  \n",
       "1          M1C  43.784535 -79.160497  \n",
       "2          M1E  43.763573 -79.188711  \n",
       "3          M1G  43.770992 -79.216917  \n",
       "4          M1H  43.773136 -79.239476  \n",
       "5          M1J  43.744734 -79.239476  \n",
       "6          M1K  43.727929 -79.262029  \n",
       "7          M1L  43.711112 -79.284577  \n",
       "8          M1M  43.716316 -79.239476  \n",
       "9          M1N  43.692657 -79.264848  \n",
       "10         M1P  43.757410 -79.273304  \n",
       "11         M1R  43.750072 -79.295849  \n",
       "12         M1S  43.794200 -79.262029  \n",
       "13         M1T  43.781638 -79.304302  \n",
       "14         M1V  43.815252 -79.284577  \n",
       "15         M1W  43.799525 -79.318389  "
      ]
     },
     "execution_count": 388,
     "metadata": {},
     "output_type": "execute_result"
    }
   ],
   "source": [
    "postalcode_df.head(16)"
   ]
  },
  {
   "cell_type": "markdown",
   "metadata": {},
   "source": [
    "## test for one postalcode area"
   ]
  },
  {
   "cell_type": "code",
   "execution_count": 394,
   "metadata": {},
   "outputs": [
    {
     "name": "stdout",
     "output_type": "stream",
     "text": [
      "Latitude and longitude values of M1V are 43.8152522, -79.2845772.\n"
     ]
    }
   ],
   "source": [
    "postalcode_latitude = postalcode_df.loc[14, 'Latitude'] # neighborhood latitude value\n",
    "postalcode_longitude = postalcode_df.loc[14, 'Longitude'] # neighborhood longitude value\n",
    "\n",
    "postalcode_name = postalcode_df.loc[14, 'PostalCode'] # neighborhood name\n",
    "\n",
    "print('Latitude and longitude values of {} are {}, {}.'.format(postalcode_name, \n",
    "                                                               postalcode_latitude, \n",
    "                                                               postalcode_longitude))"
   ]
  },
  {
   "cell_type": "code",
   "execution_count": 395,
   "metadata": {},
   "outputs": [
    {
     "data": {
      "text/plain": [
       "'https://api.foursquare.com/v2/venues/explore?&client_id=BMMZILCYQCZJE1KR2SJYMHMFLDBQBMRZOXFRN3C3AARRX113&client_secret=C1GY15IRDEV4W0KO2U1FZXMLSE2PH33O50FB1FEVMW0G4BPI&v=20180604&ll=43.8152522,-79.2845772&radius=500&limit=100'"
      ]
     },
     "execution_count": 395,
     "metadata": {},
     "output_type": "execute_result"
    }
   ],
   "source": [
    "temp_lim = 100\n",
    "radius=500\n",
    "url = 'https://api.foursquare.com/v2/venues/explore?&client_id={}&client_secret={}&v={}&ll={},{}&radius={}&limit={}'.format(\n",
    "    CLIENT_ID, \n",
    "    CLIENT_SECRET, \n",
    "    VERSION, \n",
    "    postalcode_latitude, \n",
    "    postalcode_longitude, \n",
    "    radius, \n",
    "    temp_lim)\n",
    "url"
   ]
  },
  {
   "cell_type": "code",
   "execution_count": 396,
   "metadata": {},
   "outputs": [],
   "source": [
    "results = requests.get(url).json()"
   ]
  },
  {
   "cell_type": "code",
   "execution_count": 397,
   "metadata": {},
   "outputs": [
    {
     "data": {
      "text/plain": [
       "{'meta': {'code': 200, 'requestId': '5c1f9c19dd579735d528d6dc'},\n",
       " 'response': {'warning': {'text': \"There aren't a lot of results near you. Try something more general, reset your filters, or expand the search area.\"},\n",
       "  'headerLocation': 'Scarborough',\n",
       "  'headerFullLocation': 'Scarborough',\n",
       "  'headerLocationGranularity': 'city',\n",
       "  'totalResults': 2,\n",
       "  'suggestedBounds': {'ne': {'lat': 43.819752204500006,\n",
       "    'lng': -79.2783524880255},\n",
       "   'sw': {'lat': 43.8107521955, 'lng': -79.2908019119745}},\n",
       "  'groups': [{'type': 'Recommended Places',\n",
       "    'name': 'recommended',\n",
       "    'items': [{'reasons': {'count': 0,\n",
       "       'items': [{'summary': 'This spot is popular',\n",
       "         'type': 'general',\n",
       "         'reasonName': 'globalInteractionReason'}]},\n",
       "      'venue': {'id': '4cff35ff574d60fce993466c',\n",
       "       'name': 'Port Royal Park',\n",
       "       'location': {'address': '130 Port Royal Trl',\n",
       "        'crossStreet': 'Bramblebrook Ave',\n",
       "        'lat': 43.815477,\n",
       "        'lng': -79.289773,\n",
       "        'labeledLatLngs': [{'label': 'display',\n",
       "          'lat': 43.815477,\n",
       "          'lng': -79.289773}],\n",
       "        'distance': 418,\n",
       "        'cc': 'CA',\n",
       "        'city': 'Scarborough',\n",
       "        'state': 'ON',\n",
       "        'country': 'Canada',\n",
       "        'formattedAddress': ['130 Port Royal Trl (Bramblebrook Ave)',\n",
       "         'Scarborough ON',\n",
       "         'Canada']},\n",
       "       'categories': [{'id': '4bf58dd8d48988d163941735',\n",
       "         'name': 'Park',\n",
       "         'pluralName': 'Parks',\n",
       "         'shortName': 'Park',\n",
       "         'icon': {'prefix': 'https://ss3.4sqi.net/img/categories_v2/parks_outdoors/park_',\n",
       "          'suffix': '.png'},\n",
       "         'primary': True}],\n",
       "       'photos': {'count': 0, 'groups': []}},\n",
       "      'referralId': 'e-0-4cff35ff574d60fce993466c-0'},\n",
       "     {'reasons': {'count': 0,\n",
       "       'items': [{'summary': 'This spot is popular',\n",
       "         'type': 'general',\n",
       "         'reasonName': 'globalInteractionReason'}]},\n",
       "      'venue': {'id': '4c3a49ec0a71c9b6ce0544c9',\n",
       "       'name': 'Milliken Public School Playground',\n",
       "       'location': {'address': '130 Port Royal Trail',\n",
       "        'lat': 43.81538282984429,\n",
       "        'lng': -79.2898673242174,\n",
       "        'labeledLatLngs': [{'label': 'display',\n",
       "          'lat': 43.81538282984429,\n",
       "          'lng': -79.2898673242174}],\n",
       "        'distance': 425,\n",
       "        'postalCode': 'M1V 2T4',\n",
       "        'cc': 'CA',\n",
       "        'city': 'Scarborough',\n",
       "        'state': 'ON',\n",
       "        'country': 'Canada',\n",
       "        'formattedAddress': ['130 Port Royal Trail',\n",
       "         'Scarborough ON M1V 2T4',\n",
       "         'Canada']},\n",
       "       'categories': [{'id': '4bf58dd8d48988d1e7941735',\n",
       "         'name': 'Playground',\n",
       "         'pluralName': 'Playgrounds',\n",
       "         'shortName': 'Playground',\n",
       "         'icon': {'prefix': 'https://ss3.4sqi.net/img/categories_v2/parks_outdoors/playground_',\n",
       "          'suffix': '.png'},\n",
       "         'primary': True}],\n",
       "       'photos': {'count': 0, 'groups': []}},\n",
       "      'referralId': 'e-0-4c3a49ec0a71c9b6ce0544c9-1'}]}]}}"
      ]
     },
     "execution_count": 397,
     "metadata": {},
     "output_type": "execute_result"
    }
   ],
   "source": [
    "results"
   ]
  },
  {
   "cell_type": "code",
   "execution_count": 393,
   "metadata": {},
   "outputs": [
    {
     "data": {
      "text/plain": [
       "{'id': '4df28ea0e4cda09e6da0129a',\n",
       " 'name': 'Mr Congee Chinese Cuisine 龍粥記',\n",
       " 'location': {'address': '2900 Warden Ave',\n",
       "  'crossStreet': 'at Finch Ave. E',\n",
       "  'lat': 43.798878792587615,\n",
       "  'lng': -79.3183345011537,\n",
       "  'labeledLatLngs': [{'label': 'display',\n",
       "    'lat': 43.798878792587615,\n",
       "    'lng': -79.3183345011537}],\n",
       "  'distance': 72,\n",
       "  'postalCode': 'M1W 2S8',\n",
       "  'cc': 'CA',\n",
       "  'neighborhood': \"L'Amoreaux\",\n",
       "  'city': 'Toronto',\n",
       "  'state': 'ON',\n",
       "  'country': 'Canada',\n",
       "  'formattedAddress': ['2900 Warden Ave (at Finch Ave. E)',\n",
       "   'Toronto ON M1W 2S8',\n",
       "   'Canada']},\n",
       " 'categories': [{'id': '4bf58dd8d48988d145941735',\n",
       "   'name': 'Chinese Restaurant',\n",
       "   'pluralName': 'Chinese Restaurants',\n",
       "   'shortName': 'Chinese',\n",
       "   'icon': {'prefix': 'https://ss3.4sqi.net/img/categories_v2/food/asian_',\n",
       "    'suffix': '.png'},\n",
       "   'primary': True}],\n",
       " 'photos': {'count': 0, 'groups': []}}"
      ]
     },
     "execution_count": 393,
     "metadata": {},
     "output_type": "execute_result"
    }
   ],
   "source": [
    "results[\"response\"][\"groups\"][0][\"items\"][0][\"venue\"]"
   ]
  },
  {
   "cell_type": "code",
   "execution_count": 398,
   "metadata": {},
   "outputs": [],
   "source": [
    "def getNearbyVenues(names, latitudes, longitudes, radius=500):\n",
    "    \n",
    "    venues_list=[]\n",
    "    for name, lat, lng in zip(names, latitudes, longitudes):\n",
    "        print(name)\n",
    "            \n",
    "        # create the API request URL\n",
    "        url = 'https://api.foursquare.com/v2/venues/explore?&client_id={}&client_secret={}&v={}&ll={},{}&radius={}&limit={}'.format(\n",
    "            CLIENT_ID, \n",
    "            CLIENT_SECRET, \n",
    "            VERSION, \n",
    "            lat, \n",
    "            lng, \n",
    "            radius, \n",
    "            LIMIT)\n",
    "        try:    \n",
    "            # make the GET request\n",
    "            results = requests.get(url).json()[\"response\"]['groups'][0]['items']\n",
    "\n",
    "            # return only relevant information for each nearby venue\n",
    "            venues_list.append([(\n",
    "                name, \n",
    "                lat, \n",
    "                lng, \n",
    "                v['venue']['name'], \n",
    "                v['venue']['location']['lat'], \n",
    "                v['venue']['location']['lng'],  \n",
    "                v['venue']['categories'][0]['name']) for v in results])\n",
    "      \n",
    "        except:\n",
    "            venues_list.append([(\n",
    "            name, \n",
    "            lat, \n",
    "            lng, \n",
    "            0, \n",
    "            0, \n",
    "            0,  \n",
    "            0) for v in results])\n",
    "        \n",
    "\n",
    "    nearby_venues = pd.DataFrame([item for venue_list in venues_list for item in venue_list])\n",
    "    nearby_venues.columns = ['PostalCode', \n",
    "                  'PostalCode Latitude', \n",
    "                  'PostalCode Longitude', \n",
    "                  'Venue', \n",
    "                  'Venue Latitude', \n",
    "                  'Venue Longitude', \n",
    "                  'Venue Category']\n",
    "    \n",
    "    return(nearby_venues)"
   ]
  },
  {
   "cell_type": "code",
   "execution_count": 399,
   "metadata": {},
   "outputs": [
    {
     "name": "stdout",
     "output_type": "stream",
     "text": [
      "M1B\n",
      "M1C\n",
      "M1E\n",
      "M1G\n",
      "M1H\n",
      "M1J\n",
      "M1K\n",
      "M1L\n",
      "M1M\n",
      "M1N\n",
      "M1P\n",
      "M1R\n",
      "M1S\n",
      "M1T\n",
      "M1V\n",
      "M1W\n",
      "M1X\n",
      "M2H\n",
      "M2J\n",
      "M2K\n",
      "M2L\n",
      "M2M\n",
      "M2N\n",
      "M2P\n",
      "M2R\n",
      "M3A\n",
      "M3B\n",
      "M3C\n",
      "M3H\n",
      "M3J\n",
      "M3K\n",
      "M3L\n",
      "M3M\n",
      "M3N\n",
      "M4A\n",
      "M4B\n",
      "M4C\n",
      "M4E\n",
      "M4G\n",
      "M4H\n",
      "M4J\n",
      "M4K\n",
      "M4L\n",
      "M4M\n",
      "M4N\n",
      "M4P\n",
      "M4R\n",
      "M4S\n",
      "M4T\n",
      "M4V\n",
      "M4W\n",
      "M4X\n",
      "M4Y\n",
      "M5A\n",
      "M5B\n",
      "M5C\n",
      "M5E\n",
      "M5G\n",
      "M5H\n",
      "M5J\n",
      "M5K\n",
      "M5L\n",
      "M5M\n",
      "M5N\n",
      "M5P\n",
      "M5R\n",
      "M5S\n",
      "M5T\n",
      "M5V\n",
      "M5W\n",
      "M5X\n",
      "M6A\n",
      "M6B\n",
      "M6C\n",
      "M6E\n",
      "M6G\n",
      "M6H\n",
      "M6J\n",
      "M6K\n",
      "M6L\n",
      "M6M\n",
      "M6N\n",
      "M6P\n",
      "M6R\n",
      "M6S\n",
      "M7A\n",
      "M7R\n",
      "M7Y\n",
      "M8V\n",
      "M8W\n",
      "M8X\n",
      "M8Y\n",
      "M8Z\n",
      "M9A\n",
      "M9B\n",
      "M9C\n",
      "M9L\n",
      "M9M\n",
      "M9N\n",
      "M9P\n",
      "M9R\n",
      "M9V\n",
      "M9W\n"
     ]
    }
   ],
   "source": [
    "toronto_venues = getNearbyVenues(names=postalcode_df['PostalCode'],\n",
    "                                   latitudes=postalcode_df['Latitude'],\n",
    "                                   longitudes=postalcode_df['Longitude']\n",
    "                                  )"
   ]
  },
  {
   "cell_type": "code",
   "execution_count": 402,
   "metadata": {},
   "outputs": [
    {
     "data": {
      "text/html": [
       "<div>\n",
       "<style scoped>\n",
       "    .dataframe tbody tr th:only-of-type {\n",
       "        vertical-align: middle;\n",
       "    }\n",
       "\n",
       "    .dataframe tbody tr th {\n",
       "        vertical-align: top;\n",
       "    }\n",
       "\n",
       "    .dataframe thead th {\n",
       "        text-align: right;\n",
       "    }\n",
       "</style>\n",
       "<table border=\"1\" class=\"dataframe\">\n",
       "  <thead>\n",
       "    <tr style=\"text-align: right;\">\n",
       "      <th></th>\n",
       "      <th>PostalCode</th>\n",
       "      <th>PostalCode Latitude</th>\n",
       "      <th>PostalCode Longitude</th>\n",
       "      <th>Venue</th>\n",
       "      <th>Venue Latitude</th>\n",
       "      <th>Venue Longitude</th>\n",
       "      <th>Venue Category</th>\n",
       "    </tr>\n",
       "  </thead>\n",
       "  <tbody>\n",
       "    <tr>\n",
       "      <th>0</th>\n",
       "      <td>M1B</td>\n",
       "      <td>43.806686</td>\n",
       "      <td>-79.194353</td>\n",
       "      <td>Wendy's</td>\n",
       "      <td>43.807448</td>\n",
       "      <td>-79.199056</td>\n",
       "      <td>Fast Food Restaurant</td>\n",
       "    </tr>\n",
       "    <tr>\n",
       "      <th>1</th>\n",
       "      <td>M1C</td>\n",
       "      <td>43.784535</td>\n",
       "      <td>-79.160497</td>\n",
       "      <td>RIGHT WAY TO GOLF</td>\n",
       "      <td>43.785177</td>\n",
       "      <td>-79.161108</td>\n",
       "      <td>Golf Course</td>\n",
       "    </tr>\n",
       "    <tr>\n",
       "      <th>2</th>\n",
       "      <td>M1C</td>\n",
       "      <td>43.784535</td>\n",
       "      <td>-79.160497</td>\n",
       "      <td>Royal Canadian Legion</td>\n",
       "      <td>43.782533</td>\n",
       "      <td>-79.163085</td>\n",
       "      <td>Bar</td>\n",
       "    </tr>\n",
       "    <tr>\n",
       "      <th>3</th>\n",
       "      <td>M1E</td>\n",
       "      <td>43.763573</td>\n",
       "      <td>-79.188711</td>\n",
       "      <td>Swiss Chalet Rotisserie &amp; Grill</td>\n",
       "      <td>43.767697</td>\n",
       "      <td>-79.189914</td>\n",
       "      <td>Pizza Place</td>\n",
       "    </tr>\n",
       "    <tr>\n",
       "      <th>4</th>\n",
       "      <td>M1E</td>\n",
       "      <td>43.763573</td>\n",
       "      <td>-79.188711</td>\n",
       "      <td>G &amp; G Electronics</td>\n",
       "      <td>43.765309</td>\n",
       "      <td>-79.191537</td>\n",
       "      <td>Electronics Store</td>\n",
       "    </tr>\n",
       "  </tbody>\n",
       "</table>\n",
       "</div>"
      ],
      "text/plain": [
       "  PostalCode  PostalCode Latitude  PostalCode Longitude  \\\n",
       "0        M1B            43.806686            -79.194353   \n",
       "1        M1C            43.784535            -79.160497   \n",
       "2        M1C            43.784535            -79.160497   \n",
       "3        M1E            43.763573            -79.188711   \n",
       "4        M1E            43.763573            -79.188711   \n",
       "\n",
       "                             Venue  Venue Latitude  Venue Longitude  \\\n",
       "0                          Wendy's       43.807448       -79.199056   \n",
       "1                RIGHT WAY TO GOLF       43.785177       -79.161108   \n",
       "2            Royal Canadian Legion       43.782533       -79.163085   \n",
       "3  Swiss Chalet Rotisserie & Grill       43.767697       -79.189914   \n",
       "4                G & G Electronics       43.765309       -79.191537   \n",
       "\n",
       "         Venue Category  \n",
       "0  Fast Food Restaurant  \n",
       "1           Golf Course  \n",
       "2                   Bar  \n",
       "3           Pizza Place  \n",
       "4     Electronics Store  "
      ]
     },
     "execution_count": 402,
     "metadata": {},
     "output_type": "execute_result"
    }
   ],
   "source": [
    "toronto_venues.head()"
   ]
  },
  {
   "cell_type": "code",
   "execution_count": 404,
   "metadata": {},
   "outputs": [
    {
     "data": {
      "text/plain": [
       "99"
      ]
     },
     "execution_count": 404,
     "metadata": {},
     "output_type": "execute_result"
    }
   ],
   "source": [
    "len(toronto_venues[\"PostalCode\"].unique())"
   ]
  },
  {
   "cell_type": "code",
   "execution_count": 405,
   "metadata": {},
   "outputs": [
    {
     "data": {
      "text/plain": [
       "103"
      ]
     },
     "execution_count": 405,
     "metadata": {},
     "output_type": "execute_result"
    }
   ],
   "source": [
    "len(postalcode_df[\"PostalCode\"].unique())"
   ]
  },
  {
   "cell_type": "code",
   "execution_count": 408,
   "metadata": {},
   "outputs": [
    {
     "data": {
      "text/plain": [
       "{'M1X', 'M2M', 'M9A', 'M9N'}"
      ]
     },
     "execution_count": 408,
     "metadata": {},
     "output_type": "execute_result"
    }
   ],
   "source": [
    "set(postalcode_df[\"PostalCode\"]) - set(toronto_venues[\"PostalCode\"])"
   ]
  },
  {
   "cell_type": "markdown",
   "metadata": {},
   "source": [
    "## For 4 postalcode areas the API didnt return any venues, I will drop them therefore ('M1X', 'M2M', 'M9A', 'M9N')"
   ]
  },
  {
   "cell_type": "code",
   "execution_count": null,
   "metadata": {},
   "outputs": [],
   "source": []
  }
 ],
 "metadata": {
  "kernelspec": {
   "display_name": "Python 3",
   "language": "python",
   "name": "python3"
  },
  "language_info": {
   "codemirror_mode": {
    "name": "ipython",
    "version": 3
   },
   "file_extension": ".py",
   "mimetype": "text/x-python",
   "name": "python",
   "nbconvert_exporter": "python",
   "pygments_lexer": "ipython3",
   "version": "3.6.6"
  }
 },
 "nbformat": 4,
 "nbformat_minor": 2
}
